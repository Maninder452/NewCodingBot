{
 "cells": [
  {
   "cell_type": "markdown",
   "id": "8604f787-e77d-4ec8-b798-b15cdf102f37",
   "metadata": {},
   "source": [
    "Read Incoming Data from emails"
   ]
  },
  {
   "cell_type": "code",
   "execution_count": 1,
   "id": "37952e5b-69fb-4175-9e2e-73929b859c60",
   "metadata": {},
   "outputs": [
    {
     "name": "stdout",
     "output_type": "stream",
     "text": [
      "Requirement already satisfied: beautifulsoup4 in c:\\users\\manin\\anaconda3\\lib\\site-packages (4.12.2)\n",
      "Requirement already satisfied: soupsieve>1.2 in c:\\users\\manin\\anaconda3\\lib\\site-packages (from beautifulsoup4) (2.5)\n",
      "Requirement already satisfied: lxml in c:\\users\\manin\\anaconda3\\lib\\site-packages (4.9.3)\n"
     ]
    }
   ],
   "source": [
    "!pip install beautifulsoup4\n",
    "!pip install lxml"
   ]
  },
  {
   "cell_type": "code",
   "execution_count": 1,
   "id": "46e7d476-9901-4c07-8fa4-d3f64f24ed07",
   "metadata": {},
   "outputs": [],
   "source": [
    "import pandas as pd\n",
    "import os\n",
    "from bs4 import BeautifulSoup"
   ]
  },
  {
   "cell_type": "code",
   "execution_count": 2,
   "id": "fd4ecb0e-41d5-4f69-bfce-88b74bc70dcf",
   "metadata": {},
   "outputs": [],
   "source": [
    "path = \"C:\\\\Users\\\\manin\\\\Downloads\\\\AI Project\""
   ]
  },
  {
   "cell_type": "code",
   "execution_count": 3,
   "id": "0e2ccf1d-e52a-4334-b227-2f7b46d2b790",
   "metadata": {},
   "outputs": [],
   "source": [
    "# Function to extract text after 'dir=\"ltr\">'\n",
    "def extract_text_from_html(html_content):\n",
    "    # Parse HTML content using BeautifulSoup\n",
    "    soup = BeautifulSoup(html_content, 'html.parser')\n",
    "    \n",
    "    # Find all elements with 'dir=\"ltr\"'\n",
    "    divs = soup.find_all('div', {'dir': 'ltr'})\n",
    "    \n",
    "    # Extract the text content from these divs\n",
    "    extracted_text = [div.get_text(strip=True) for div in divs]\n",
    "    \n",
    "    return extracted_text"
   ]
  },
  {
   "cell_type": "code",
   "execution_count": 4,
   "id": "cf916366-4299-4e04-9bc9-a3a0cdbf15f3",
   "metadata": {},
   "outputs": [],
   "source": [
    "# List to store all the extracted data\n",
    "extracted_data = []\n"
   ]
  },
  {
   "cell_type": "code",
   "execution_count": 5,
   "id": "2fda2f45-e52f-46f9-80dc-8fc00d50a20a",
   "metadata": {},
   "outputs": [],
   "source": [
    "# Assuming the HTML files are in a directory called 'html_files'\n",
    "html_files_directory = path\n"
   ]
  },
  {
   "cell_type": "code",
   "execution_count": 6,
   "id": "59784e21-e347-4ebd-b906-9bceaf0218c3",
   "metadata": {},
   "outputs": [],
   "source": [
    "# Loop through all files in the directory\n",
    "for filename in os.listdir(html_files_directory):\n",
    "    if filename.endswith(\".txt\"):  # Ensure we are only processing text files\n",
    "        file_path = os.path.join(html_files_directory, filename)\n",
    "        \n",
    "        # Read the HTML content from the file\n",
    "        with open(file_path, 'r', encoding='utf-8') as file:\n",
    "            html_content = file.read()\n",
    "            \n",
    "            # Extract the text after <div dir=\"ltr\">\n",
    "            extracted_text = extract_text_from_html(html_content)\n",
    "                    \n",
    "            # Extend the extracted_data list, but avoid adding duplicates\n",
    "            for text in extracted_text:\n",
    "                if text not in extracted_data:\n",
    "                    extracted_data.append(text)"
   ]
  },
  {
   "cell_type": "code",
   "execution_count": 10,
   "id": "53354062-d794-4e3e-a482-3fd0de9f5f0b",
   "metadata": {},
   "outputs": [
    {
     "name": "stdout",
     "output_type": "stream",
     "text": [
      "  target                                               text\n",
      "0                 Earn $500 daily without lifting a finger!\n",
      "1         Please verify your identity immediately by cli...\n",
      "2                  Join today and start earning right away!\n"
     ]
    }
   ],
   "source": [
    "# # Create a DataFrame from the extracted data\n",
    "df = pd.DataFrame(extracted_data, columns=['text'])\n",
    "df.insert(0, \"target\", \"\")\n",
    "print(df)\n",
    "df.to_csv('Test.csv', index=False)"
   ]
  },
  {
   "cell_type": "code",
   "execution_count": null,
   "id": "567a64d2-5358-4713-afd5-701f91cffb5d",
   "metadata": {},
   "outputs": [],
   "source": []
  }
 ],
 "metadata": {
  "kernelspec": {
   "display_name": "Python 3 (ipykernel)",
   "language": "python",
   "name": "python3"
  },
  "language_info": {
   "codemirror_mode": {
    "name": "ipython",
    "version": 3
   },
   "file_extension": ".py",
   "mimetype": "text/x-python",
   "name": "python",
   "nbconvert_exporter": "python",
   "pygments_lexer": "ipython3",
   "version": "3.11.7"
  }
 },
 "nbformat": 4,
 "nbformat_minor": 5
}
